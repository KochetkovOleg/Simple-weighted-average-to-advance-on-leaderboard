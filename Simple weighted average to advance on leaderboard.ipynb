{
 "cells": [
  {
   "cell_type": "markdown",
   "metadata": {},
   "source": [
    "# Kaggle inclass competition to predict DOTA2 match results\n",
    "https://www.kaggle.com/c/mlcourse-dota2-win-prediction"
   ]
  },
  {
   "cell_type": "code",
   "execution_count": 1,
   "metadata": {},
   "outputs": [],
   "source": [
    "import pandas as pd "
   ]
  },
  {
   "cell_type": "markdown",
   "metadata": {},
   "source": [
    "# Take the public solution with LGBM, public score 0.83919\n",
    "https://www.kaggle.com/artgor/dota-eda-fe-and-models"
   ]
  },
  {
   "cell_type": "code",
   "execution_count": 2,
   "metadata": {},
   "outputs": [
    {
     "data": {
      "text/html": [
       "<div>\n",
       "<style scoped>\n",
       "    .dataframe tbody tr th:only-of-type {\n",
       "        vertical-align: middle;\n",
       "    }\n",
       "\n",
       "    .dataframe tbody tr th {\n",
       "        vertical-align: top;\n",
       "    }\n",
       "\n",
       "    .dataframe thead th {\n",
       "        text-align: right;\n",
       "    }\n",
       "</style>\n",
       "<table border=\"1\" class=\"dataframe\">\n",
       "  <thead>\n",
       "    <tr style=\"text-align: right;\">\n",
       "      <th></th>\n",
       "      <th>match_id_hash</th>\n",
       "      <th>radiant_win_prob</th>\n",
       "    </tr>\n",
       "  </thead>\n",
       "  <tbody>\n",
       "    <tr>\n",
       "      <th>0</th>\n",
       "      <td>30cc2d778dca82f2edb568ce9b585caa</td>\n",
       "      <td>0.489269</td>\n",
       "    </tr>\n",
       "    <tr>\n",
       "      <th>1</th>\n",
       "      <td>70e5ba30f367cea48793b9003fab9d38</td>\n",
       "      <td>0.987347</td>\n",
       "    </tr>\n",
       "    <tr>\n",
       "      <th>2</th>\n",
       "      <td>4d9ef74d3a2025d79e9423105fd73d41</td>\n",
       "      <td>0.974595</td>\n",
       "    </tr>\n",
       "    <tr>\n",
       "      <th>3</th>\n",
       "      <td>2bb79e0c1eaac1608e5a09c8e0c6a555</td>\n",
       "      <td>0.766301</td>\n",
       "    </tr>\n",
       "    <tr>\n",
       "      <th>4</th>\n",
       "      <td>bec17f099b01d67edc82dfb5ce735a43</td>\n",
       "      <td>0.408630</td>\n",
       "    </tr>\n",
       "  </tbody>\n",
       "</table>\n",
       "</div>"
      ],
      "text/plain": [
       "                      match_id_hash  radiant_win_prob\n",
       "0  30cc2d778dca82f2edb568ce9b585caa          0.489269\n",
       "1  70e5ba30f367cea48793b9003fab9d38          0.987347\n",
       "2  4d9ef74d3a2025d79e9423105fd73d41          0.974595\n",
       "3  2bb79e0c1eaac1608e5a09c8e0c6a555          0.766301\n",
       "4  bec17f099b01d67edc82dfb5ce735a43          0.408630"
      ]
     },
     "execution_count": 2,
     "metadata": {},
     "output_type": "execute_result"
    }
   ],
   "source": [
    "submission_best = pd.read_csv('submission_best.csv') # I have just renamed csv file\n",
    "submission_best.head()"
   ]
  },
  {
   "cell_type": "markdown",
   "metadata": {},
   "source": [
    "# Take the another public solution, different features + LGBM, public score 0.83564\n",
    "https://www.kaggle.com/clair14/gold-is-the-reason-teams-and-bayes-for-lightgbm"
   ]
  },
  {
   "cell_type": "code",
   "execution_count": 3,
   "metadata": {},
   "outputs": [
    {
     "data": {
      "text/html": [
       "<div>\n",
       "<style scoped>\n",
       "    .dataframe tbody tr th:only-of-type {\n",
       "        vertical-align: middle;\n",
       "    }\n",
       "\n",
       "    .dataframe tbody tr th {\n",
       "        vertical-align: top;\n",
       "    }\n",
       "\n",
       "    .dataframe thead th {\n",
       "        text-align: right;\n",
       "    }\n",
       "</style>\n",
       "<table border=\"1\" class=\"dataframe\">\n",
       "  <thead>\n",
       "    <tr style=\"text-align: right;\">\n",
       "      <th></th>\n",
       "      <th>match_id_hash</th>\n",
       "      <th>radiant_win_prob</th>\n",
       "    </tr>\n",
       "  </thead>\n",
       "  <tbody>\n",
       "    <tr>\n",
       "      <th>0</th>\n",
       "      <td>30cc2d778dca82f2edb568ce9b585caa</td>\n",
       "      <td>0.283883</td>\n",
       "    </tr>\n",
       "    <tr>\n",
       "      <th>1</th>\n",
       "      <td>70e5ba30f367cea48793b9003fab9d38</td>\n",
       "      <td>0.990318</td>\n",
       "    </tr>\n",
       "    <tr>\n",
       "      <th>2</th>\n",
       "      <td>4d9ef74d3a2025d79e9423105fd73d41</td>\n",
       "      <td>0.952005</td>\n",
       "    </tr>\n",
       "    <tr>\n",
       "      <th>3</th>\n",
       "      <td>2bb79e0c1eaac1608e5a09c8e0c6a555</td>\n",
       "      <td>0.737762</td>\n",
       "    </tr>\n",
       "    <tr>\n",
       "      <th>4</th>\n",
       "      <td>bec17f099b01d67edc82dfb5ce735a43</td>\n",
       "      <td>0.210283</td>\n",
       "    </tr>\n",
       "  </tbody>\n",
       "</table>\n",
       "</div>"
      ],
      "text/plain": [
       "                      match_id_hash  radiant_win_prob\n",
       "0  30cc2d778dca82f2edb568ce9b585caa          0.283883\n",
       "1  70e5ba30f367cea48793b9003fab9d38          0.990318\n",
       "2  4d9ef74d3a2025d79e9423105fd73d41          0.952005\n",
       "3  2bb79e0c1eaac1608e5a09c8e0c6a555          0.737762\n",
       "4  bec17f099b01d67edc82dfb5ce735a43          0.210283"
      ]
     },
     "execution_count": 3,
     "metadata": {},
     "output_type": "execute_result"
    }
   ],
   "source": [
    "submission_gold = pd.read_csv('submission_gold.csv') # I have just renamed csv file\n",
    "submission_gold.head()"
   ]
  },
  {
   "cell_type": "markdown",
   "metadata": {},
   "source": [
    "# Take the 3rd best public solution, different features + Neural net , public score 0.83054\n",
    "https://www.kaggle.com/shokhan/neural-network-to-predict-dota-2-winner"
   ]
  },
  {
   "cell_type": "code",
   "execution_count": 4,
   "metadata": {},
   "outputs": [
    {
     "data": {
      "text/html": [
       "<div>\n",
       "<style scoped>\n",
       "    .dataframe tbody tr th:only-of-type {\n",
       "        vertical-align: middle;\n",
       "    }\n",
       "\n",
       "    .dataframe tbody tr th {\n",
       "        vertical-align: top;\n",
       "    }\n",
       "\n",
       "    .dataframe thead th {\n",
       "        text-align: right;\n",
       "    }\n",
       "</style>\n",
       "<table border=\"1\" class=\"dataframe\">\n",
       "  <thead>\n",
       "    <tr style=\"text-align: right;\">\n",
       "      <th></th>\n",
       "      <th>match_id_hash</th>\n",
       "      <th>radiant_win_prob</th>\n",
       "    </tr>\n",
       "  </thead>\n",
       "  <tbody>\n",
       "    <tr>\n",
       "      <th>0</th>\n",
       "      <td>30cc2d778dca82f2edb568ce9b585caa</td>\n",
       "      <td>0.528809</td>\n",
       "    </tr>\n",
       "    <tr>\n",
       "      <th>1</th>\n",
       "      <td>70e5ba30f367cea48793b9003fab9d38</td>\n",
       "      <td>0.917742</td>\n",
       "    </tr>\n",
       "    <tr>\n",
       "      <th>2</th>\n",
       "      <td>4d9ef74d3a2025d79e9423105fd73d41</td>\n",
       "      <td>0.894054</td>\n",
       "    </tr>\n",
       "    <tr>\n",
       "      <th>3</th>\n",
       "      <td>2bb79e0c1eaac1608e5a09c8e0c6a555</td>\n",
       "      <td>0.645377</td>\n",
       "    </tr>\n",
       "    <tr>\n",
       "      <th>4</th>\n",
       "      <td>bec17f099b01d67edc82dfb5ce735a43</td>\n",
       "      <td>0.322730</td>\n",
       "    </tr>\n",
       "  </tbody>\n",
       "</table>\n",
       "</div>"
      ],
      "text/plain": [
       "                      match_id_hash  radiant_win_prob\n",
       "0  30cc2d778dca82f2edb568ce9b585caa          0.528809\n",
       "1  70e5ba30f367cea48793b9003fab9d38          0.917742\n",
       "2  4d9ef74d3a2025d79e9423105fd73d41          0.894054\n",
       "3  2bb79e0c1eaac1608e5a09c8e0c6a555          0.645377\n",
       "4  bec17f099b01d67edc82dfb5ce735a43          0.322730"
      ]
     },
     "execution_count": 4,
     "metadata": {},
     "output_type": "execute_result"
    }
   ],
   "source": [
    "submission_nn = pd.read_csv('submission_2019-04-03_19-04-57.csv') # I have just renamed csv file\n",
    "submission_nn.head()"
   ]
  },
  {
   "cell_type": "markdown",
   "metadata": {},
   "source": [
    "# For all 3 solutions I renamed csv and make a simple weighted average of final predictions with 4:3:3 proportion.\n",
    "That give 0.84432 on public leaderboard and also advancement on private, basically for free!\n",
    "You did not even need to run the kernel, just download the csv."
   ]
  },
  {
   "cell_type": "code",
   "execution_count": 5,
   "metadata": {},
   "outputs": [
    {
     "data": {
      "text/html": [
       "<div>\n",
       "<style scoped>\n",
       "    .dataframe tbody tr th:only-of-type {\n",
       "        vertical-align: middle;\n",
       "    }\n",
       "\n",
       "    .dataframe tbody tr th {\n",
       "        vertical-align: top;\n",
       "    }\n",
       "\n",
       "    .dataframe thead th {\n",
       "        text-align: right;\n",
       "    }\n",
       "</style>\n",
       "<table border=\"1\" class=\"dataframe\">\n",
       "  <thead>\n",
       "    <tr style=\"text-align: right;\">\n",
       "      <th></th>\n",
       "      <th>match_id_hash</th>\n",
       "      <th>radiant_win_prob</th>\n",
       "    </tr>\n",
       "  </thead>\n",
       "  <tbody>\n",
       "    <tr>\n",
       "      <th>0</th>\n",
       "      <td>30cc2d778dca82f2edb568ce9b585caa</td>\n",
       "      <td>0.439515</td>\n",
       "    </tr>\n",
       "    <tr>\n",
       "      <th>1</th>\n",
       "      <td>70e5ba30f367cea48793b9003fab9d38</td>\n",
       "      <td>0.967357</td>\n",
       "    </tr>\n",
       "    <tr>\n",
       "      <th>2</th>\n",
       "      <td>4d9ef74d3a2025d79e9423105fd73d41</td>\n",
       "      <td>0.943656</td>\n",
       "    </tr>\n",
       "    <tr>\n",
       "      <th>3</th>\n",
       "      <td>2bb79e0c1eaac1608e5a09c8e0c6a555</td>\n",
       "      <td>0.721462</td>\n",
       "    </tr>\n",
       "    <tr>\n",
       "      <th>4</th>\n",
       "      <td>bec17f099b01d67edc82dfb5ce735a43</td>\n",
       "      <td>0.323356</td>\n",
       "    </tr>\n",
       "  </tbody>\n",
       "</table>\n",
       "</div>"
      ],
      "text/plain": [
       "                      match_id_hash  radiant_win_prob\n",
       "0  30cc2d778dca82f2edb568ce9b585caa          0.439515\n",
       "1  70e5ba30f367cea48793b9003fab9d38          0.967357\n",
       "2  4d9ef74d3a2025d79e9423105fd73d41          0.943656\n",
       "3  2bb79e0c1eaac1608e5a09c8e0c6a555          0.721462\n",
       "4  bec17f099b01d67edc82dfb5ce735a43          0.323356"
      ]
     },
     "execution_count": 5,
     "metadata": {},
     "output_type": "execute_result"
    }
   ],
   "source": [
    "submission = pd.DataFrame()\n",
    "submission['match_id_hash'] = submission_best['match_id_hash']\n",
    "submission['radiant_win_prob'] =  0.4*submission_best['radiant_win_prob']+ \\\n",
    "                                  0.3*submission_gold['radiant_win_prob']+ \\\n",
    "                                  0.3*submission_nn['radiant_win_prob']\n",
    "\n",
    "submission.to_csv('submission.csv',index=False)\n",
    "submission.head()"
   ]
  },
  {
   "cell_type": "markdown",
   "metadata": {},
   "source": [
    "# That's it. Enjoy and please vote up."
   ]
  },
  {
   "cell_type": "code",
   "execution_count": null,
   "metadata": {},
   "outputs": [],
   "source": []
  }
 ],
 "metadata": {
  "kernelspec": {
   "display_name": "Python 3",
   "language": "python",
   "name": "python3"
  },
  "language_info": {
   "codemirror_mode": {
    "name": "ipython",
    "version": 3
   },
   "file_extension": ".py",
   "mimetype": "text/x-python",
   "name": "python",
   "nbconvert_exporter": "python",
   "pygments_lexer": "ipython3",
   "version": "3.6.5"
  }
 },
 "nbformat": 4,
 "nbformat_minor": 2
}
